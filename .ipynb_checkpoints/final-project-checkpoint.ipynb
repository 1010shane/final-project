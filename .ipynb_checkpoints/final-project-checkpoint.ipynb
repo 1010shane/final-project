{
 "cells": [
  {
   "cell_type": "markdown",
   "metadata": {},
   "source": [
    "# Final Project Template "
   ]
  },
  {
   "cell_type": "markdown",
   "metadata": {},
   "source": [
    "## **1) Get your data**\n",
    "You may use any data set(s) you like, so long as they meet these criteria:\n",
    "\n",
    "* Your data must be publically available for free.\n",
    "* Your data should be interesting to _you_. You want your final project to be something you're proud of.\n",
    "* Your data should be \"big enough\":\n",
    "    - It should have at least 1,000 rows.\n",
    "    - It should have enough of columns to be interesting.\n",
    "    - If you have questions, contact a member of the instructional team."
   ]
  },
  {
   "cell_type": "markdown",
   "metadata": {},
   "source": [
    "## **2) Provide a link to your data**\n",
    "Your data is required to be free and open to anyone.\n",
    "As such, you should have a URL which anyone can use to download your data:"
   ]
  },
  {
   "cell_type": "markdown",
   "metadata": {},
   "source": [
    "*Data used in this project can be found [here](https://www.kaggle.com/mirichoi0218/insurance/version/1). This is a ***Medical Cost Personal Datasets*** dataset designed for machine learning exploration from Kaggle.*"
   ]
  },
  {
   "cell_type": "markdown",
   "metadata": {},
   "source": [
    "## **3) Import your data**\n",
    "In the space below, import your data.\n",
    "If your data span multiple files, read them all in.\n",
    "If applicable, merge or append them as needed."
   ]
  },
  {
   "cell_type": "code",
   "execution_count": 2,
   "metadata": {},
   "outputs": [],
   "source": [
    "import pandas as pd\n",
    "import numpy as np\n",
    "\n",
    "insurance = pd.read_csv('insurance.csv')"
   ]
  },
  {
   "cell_type": "markdown",
   "metadata": {},
   "source": [
    "## **4) Show me the head of your data.**"
   ]
  },
  {
   "cell_type": "markdown",
   "metadata": {},
   "source": [
    "*The head of these data can be seen below:*"
   ]
  },
  {
   "cell_type": "code",
   "execution_count": 49,
   "metadata": {},
   "outputs": [
    {
     "data": {
      "text/html": [
       "<div>\n",
       "<style scoped>\n",
       "    .dataframe tbody tr th:only-of-type {\n",
       "        vertical-align: middle;\n",
       "    }\n",
       "\n",
       "    .dataframe tbody tr th {\n",
       "        vertical-align: top;\n",
       "    }\n",
       "\n",
       "    .dataframe thead th {\n",
       "        text-align: right;\n",
       "    }\n",
       "</style>\n",
       "<table border=\"1\" class=\"dataframe\">\n",
       "  <thead>\n",
       "    <tr style=\"text-align: right;\">\n",
       "      <th></th>\n",
       "      <th>age</th>\n",
       "      <th>sex</th>\n",
       "      <th>bmi</th>\n",
       "      <th>children</th>\n",
       "      <th>smoker</th>\n",
       "      <th>region</th>\n",
       "      <th>charges</th>\n",
       "    </tr>\n",
       "  </thead>\n",
       "  <tbody>\n",
       "    <tr>\n",
       "      <td>0</td>\n",
       "      <td>19</td>\n",
       "      <td>female</td>\n",
       "      <td>27.900</td>\n",
       "      <td>0</td>\n",
       "      <td>yes</td>\n",
       "      <td>southwest</td>\n",
       "      <td>16884.92400</td>\n",
       "    </tr>\n",
       "    <tr>\n",
       "      <td>1</td>\n",
       "      <td>18</td>\n",
       "      <td>male</td>\n",
       "      <td>33.770</td>\n",
       "      <td>1</td>\n",
       "      <td>no</td>\n",
       "      <td>southeast</td>\n",
       "      <td>1725.55230</td>\n",
       "    </tr>\n",
       "    <tr>\n",
       "      <td>2</td>\n",
       "      <td>28</td>\n",
       "      <td>male</td>\n",
       "      <td>33.000</td>\n",
       "      <td>3</td>\n",
       "      <td>no</td>\n",
       "      <td>southeast</td>\n",
       "      <td>4449.46200</td>\n",
       "    </tr>\n",
       "    <tr>\n",
       "      <td>3</td>\n",
       "      <td>33</td>\n",
       "      <td>male</td>\n",
       "      <td>22.705</td>\n",
       "      <td>0</td>\n",
       "      <td>no</td>\n",
       "      <td>northwest</td>\n",
       "      <td>21984.47061</td>\n",
       "    </tr>\n",
       "    <tr>\n",
       "      <td>4</td>\n",
       "      <td>32</td>\n",
       "      <td>male</td>\n",
       "      <td>28.880</td>\n",
       "      <td>0</td>\n",
       "      <td>no</td>\n",
       "      <td>northwest</td>\n",
       "      <td>3866.85520</td>\n",
       "    </tr>\n",
       "  </tbody>\n",
       "</table>\n",
       "</div>"
      ],
      "text/plain": [
       "   age     sex     bmi  children smoker     region      charges\n",
       "0   19  female  27.900         0    yes  southwest  16884.92400\n",
       "1   18    male  33.770         1     no  southeast   1725.55230\n",
       "2   28    male  33.000         3     no  southeast   4449.46200\n",
       "3   33    male  22.705         0     no  northwest  21984.47061\n",
       "4   32    male  28.880         0     no  northwest   3866.85520"
      ]
     },
     "execution_count": 49,
     "metadata": {},
     "output_type": "execute_result"
    }
   ],
   "source": [
    "insurance.head()"
   ]
  },
  {
   "cell_type": "markdown",
   "metadata": {},
   "source": [
    "## **5) Show me the shape of your data**"
   ]
  },
  {
   "cell_type": "markdown",
   "metadata": {},
   "source": [
    "*This dataset contains ~1400 observations, each with 7 dimensions:*"
   ]
  },
  {
   "cell_type": "code",
   "execution_count": 50,
   "metadata": {},
   "outputs": [
    {
     "data": {
      "text/plain": [
       "(1338, 7)"
      ]
     },
     "execution_count": 50,
     "metadata": {},
     "output_type": "execute_result"
    }
   ],
   "source": [
    "insurance.shape"
   ]
  },
  {
   "cell_type": "markdown",
   "metadata": {},
   "source": [
    "## **6) Show me the proportion of missing observations for each column of your data**"
   ]
  },
  {
   "cell_type": "markdown",
   "metadata": {},
   "source": [
    "*Shown below, these data have no missing values, meaning there is no need to impute missing values.*"
   ]
  },
  {
   "cell_type": "code",
   "execution_count": 7,
   "metadata": {},
   "outputs": [
    {
     "data": {
      "text/plain": [
       "age         0\n",
       "sex         0\n",
       "bmi         0\n",
       "children    0\n",
       "smoker      0\n",
       "region      0\n",
       "charges     0\n",
       "dtype: int64"
      ]
     },
     "execution_count": 7,
     "metadata": {},
     "output_type": "execute_result"
    }
   ],
   "source": [
    "# Assertion statement to ensure that the sum of all NA's in the df equal 0 (i.e. no NA values)\n",
    "assert insurance.isna().sum().sum() == 0\n",
    "\n",
    "insurance.isna().sum()"
   ]
  },
  {
   "cell_type": "markdown",
   "metadata": {},
   "source": [
    "## **7) Give me a problem statement.**\n",
    "Below, write a problem statement. Keep in mind that your task is to tease out relationships in your data and eventually build a predictive model. Your problem statement can be vague, but you should have a goal in mind. Your problem statement should be between one sentence and one paragraph."
   ]
  },
  {
   "cell_type": "markdown",
   "metadata": {},
   "source": [
    "*To best explore these data, we will list several \"problem statements\":*\n",
    "\n",
    "1. ***Regression:*** *Can we predict the cost of insurance for each individual?*\n",
    "\n",
    "2. ***Classification:*** *Can we classify the region that the individual came from given the other information*\n",
    "\n",
    "3. ***Clustering:*** *Can we identify underlying groups in the data, possible those that can't be explained by the categorical variables given?*"
   ]
  },
  {
   "cell_type": "markdown",
   "metadata": {},
   "source": [
    "## **8) What is your _y_-variable?**\n",
    "For final project, you will need to perform a statistical model. This means you will have to accurately predict some y-variable for some combination of x-variables. From your problem statement in part 7, what is that y-variable?"
   ]
  },
  {
   "cell_type": "markdown",
   "metadata": {},
   "source": [
    "*Given our multiple problem statements, we will in turn have multiple outcome variables. These variables are listed below and correcspond with the problem statements above:*\n",
    "\n",
    "1. ***Regression:*** `charges`\n",
    "\n",
    "2. ***Classification:*** `region`\n",
    "\n",
    "3. ***Clustering:*** `?`"
   ]
  },
  {
   "cell_type": "markdown",
   "metadata": {},
   "source": [
    "## **9) Data Exploration**\n",
    "\n",
    "*Here, we will explore the distribution of our data and the relationships between variables. These data have 3 continuous and 4 categorical variables, as we will see below. We will preview the data again below for convenience and explore each variable individually, and then continue by looking at the relationships between variables before moving on to addressing our problem statements.*"
   ]
  },
  {
   "cell_type": "code",
   "execution_count": 8,
   "metadata": {},
   "outputs": [
    {
     "data": {
      "text/html": [
       "<div>\n",
       "<style scoped>\n",
       "    .dataframe tbody tr th:only-of-type {\n",
       "        vertical-align: middle;\n",
       "    }\n",
       "\n",
       "    .dataframe tbody tr th {\n",
       "        vertical-align: top;\n",
       "    }\n",
       "\n",
       "    .dataframe thead th {\n",
       "        text-align: right;\n",
       "    }\n",
       "</style>\n",
       "<table border=\"1\" class=\"dataframe\">\n",
       "  <thead>\n",
       "    <tr style=\"text-align: right;\">\n",
       "      <th></th>\n",
       "      <th>age</th>\n",
       "      <th>sex</th>\n",
       "      <th>bmi</th>\n",
       "      <th>children</th>\n",
       "      <th>smoker</th>\n",
       "      <th>region</th>\n",
       "      <th>charges</th>\n",
       "    </tr>\n",
       "  </thead>\n",
       "  <tbody>\n",
       "    <tr>\n",
       "      <td>0</td>\n",
       "      <td>19</td>\n",
       "      <td>female</td>\n",
       "      <td>27.900</td>\n",
       "      <td>0</td>\n",
       "      <td>yes</td>\n",
       "      <td>southwest</td>\n",
       "      <td>16884.92400</td>\n",
       "    </tr>\n",
       "    <tr>\n",
       "      <td>1</td>\n",
       "      <td>18</td>\n",
       "      <td>male</td>\n",
       "      <td>33.770</td>\n",
       "      <td>1</td>\n",
       "      <td>no</td>\n",
       "      <td>southeast</td>\n",
       "      <td>1725.55230</td>\n",
       "    </tr>\n",
       "    <tr>\n",
       "      <td>2</td>\n",
       "      <td>28</td>\n",
       "      <td>male</td>\n",
       "      <td>33.000</td>\n",
       "      <td>3</td>\n",
       "      <td>no</td>\n",
       "      <td>southeast</td>\n",
       "      <td>4449.46200</td>\n",
       "    </tr>\n",
       "    <tr>\n",
       "      <td>3</td>\n",
       "      <td>33</td>\n",
       "      <td>male</td>\n",
       "      <td>22.705</td>\n",
       "      <td>0</td>\n",
       "      <td>no</td>\n",
       "      <td>northwest</td>\n",
       "      <td>21984.47061</td>\n",
       "    </tr>\n",
       "    <tr>\n",
       "      <td>4</td>\n",
       "      <td>32</td>\n",
       "      <td>male</td>\n",
       "      <td>28.880</td>\n",
       "      <td>0</td>\n",
       "      <td>no</td>\n",
       "      <td>northwest</td>\n",
       "      <td>3866.85520</td>\n",
       "    </tr>\n",
       "  </tbody>\n",
       "</table>\n",
       "</div>"
      ],
      "text/plain": [
       "   age     sex     bmi  children smoker     region      charges\n",
       "0   19  female  27.900         0    yes  southwest  16884.92400\n",
       "1   18    male  33.770         1     no  southeast   1725.55230\n",
       "2   28    male  33.000         3     no  southeast   4449.46200\n",
       "3   33    male  22.705         0     no  northwest  21984.47061\n",
       "4   32    male  28.880         0     no  northwest   3866.85520"
      ]
     },
     "execution_count": 8,
     "metadata": {},
     "output_type": "execute_result"
    }
   ],
   "source": [
    "insurance.head()"
   ]
  },
  {
   "cell_type": "markdown",
   "metadata": {},
   "source": [
    "## ***Age distribution***\n",
    "\n",
    "*Below we can see that age has a relatively flat distribution, with a slight skew due to a larger proportion of individuals in their teens/early 20's.*"
   ]
  },
  {
   "cell_type": "code",
   "execution_count": 26,
   "metadata": {},
   "outputs": [
    {
     "data": {
      "image/png": "[encoded data removed]",
      "text/plain": [
       "<Figure size 1080x720 with 1 Axes>"
      ]
     },
     "metadata": {
      "needs_background": "light"
     },
     "output_type": "display_data"
    }
   ],
   "source": [
    "import matplotlib.pyplot as plt\n",
    "\n",
    "fig = plt.figure(figsize=(15, 10))\n",
    "age_dist = fig.add_subplot()\n",
    "\n",
    "age_dist.hist(insurance['age'], color=\"red\", alpha=.5, edgecolor='black')\n",
    "age_dist.set_xlabel('Age')\n",
    "age_dist.set_ylabel('Count')\n",
    "#age_dist.set_ylim((0,800))\n",
    "age_dist.spines['right'].set_visible(False)\n",
    "age_dist.spines['top'].set_visible(False)"
   ]
  },
  {
   "cell_type": "markdown",
   "metadata": {},
   "source": [
    "## ***Sex distribution***\n",
    "\n",
    "*Here we can visualize the distribution of sex within the dataframe. We can see that the amount of males and females are nearly identical:*"
   ]
  },
  {
   "cell_type": "code",
   "execution_count": 66,
   "metadata": {},
   "outputs": [
    {
     "data": {
      "image/png": "[encoded data removed]",
      "text/plain": [
       "<Figure size 720x540 with 1 Axes>"
      ]
     },
     "metadata": {
      "needs_background": "light"
     },
     "output_type": "display_data"
    }
   ],
   "source": [
    "# make a function to get the frequencies of of an observation within a column\n",
    "def get_freq(col, obs):\n",
    "    \"\"\"\n",
    "    Returns the number of observation obs in column col from the insurance dataframe\n",
    "    \"\"\"\n",
    "    return insurance[insurance[col] == obs][col].count()\n",
    "\n",
    "# Get the frequencies of male and female observations\n",
    "male_count = get_freq('sex', 'male')\n",
    "female_count = get_freq('sex', 'female')\n",
    "\n",
    "# assert that the sum of these two variables equals the total number of observations\n",
    "\n",
    "assert (male_count + female_count) == insurance.shape[0]\n",
    "\n",
    "plt.close()\n",
    "fig = plt.figure(figsize=(10, 7.5))\n",
    "sex_dist = fig.add_subplot()\n",
    "\n",
    "sex_dist.bar(['Male', 'Female'], [male_count, female_count], alpha = .5, edgecolor='black')\n",
    "sex_dist.set_xlabel('Sex')\n",
    "sex_dist.set_ylabel('Frequency')\n",
    "sex_dist.spines['right'].set_visible(False)\n",
    "sex_dist.spines['top'].set_visible(False)"
   ]
  },
  {
   "cell_type": "markdown",
   "metadata": {},
   "source": [
    "## ***BMI distribution***\n",
    "\n",
    "*Here we visualize BMI by sex, given the biological differences between sexes.*"
   ]
  },
  {
   "cell_type": "code",
   "execution_count": 58,
   "metadata": {},
   "outputs": [
    {
     "data": {
      "image/png": "[encoded data removed]",
      "text/plain": [
       "<Figure size 720x360 with 2 Axes>"
      ]
     },
     "metadata": {
      "needs_background": "light"
     },
     "output_type": "display_data"
    }
   ],
   "source": [
    "plt.close()\n",
    "fig = plt.figure(figsize=(10, 5))\n",
    "ax1 = fig.add_subplot(1, 2, 1)\n",
    "ax2 = fig.add_subplot(1, 2, 2)\n",
    "\n",
    "ax1.hist(insurance[insurance['sex'] == 'female']['bmi'], color=\"red\", alpha=0.5, edgecolor='black', bins = 10)\n",
    "ax1.set_xlabel('Female BMI')\n",
    "ax1.set_ylabel('Count')\n",
    "ax1.set_ylim((0,180))\n",
    "ax1.set_xlim((15,55))\n",
    "ax1.spines['right'].set_visible(False)\n",
    "ax1.spines['top'].set_visible(False)\n",
    "\n",
    "\n",
    "ax2.hist(insurance[insurance['sex'] == 'male']['bmi'], color=\"blue\", alpha=0.5, edgecolor='black', bins = 10)\n",
    "ax2.set_xlabel('Male BMI')\n",
    "ax2.set_ylabel('Count')\n",
    "ax2.set_ylim((0,180))\n",
    "ax2.set_xlim((15,55))\n",
    "ax2.spines['right'].set_visible(False)\n",
    "ax2.spines['top'].set_visible(False)\n",
    "\n",
    "plt.tight_layout()\n",
    "plt.show()"
   ]
  },
  {
   "cell_type": "markdown",
   "metadata": {},
   "source": [
    "## ***Number of Children Distribution***\n",
    "\n",
    "*Below we visualize the distribution of how many children individuals from these data have:*"
   ]
  },
  {
   "cell_type": "code",
   "execution_count": 79,
   "metadata": {},
   "outputs": [
    {
     "data": {
      "image/png": "[encoded data removed]",
      "text/plain": [
       "<Figure size 720x540 with 1 Axes>"
      ]
     },
     "metadata": {
      "needs_background": "light"
     },
     "output_type": "display_data"
    }
   ],
   "source": [
    "# instantiate a list to be used in the for loop\n",
    "child_freq_list = []\n",
    "\n",
    "# make a for loop to use the get_freq function defined earlier to get the frequency of each unique observation in the 'children' column\n",
    "for i in range(0, insurance['children'].max() + 1):\n",
    "    count = get_freq('children', i)\n",
    "    child_freq_list.append(count)\n",
    "\n",
    "# Assert that the sum of all child counts previously obtained is equal to the amount of rows in the dataframe\n",
    "assert sum(child_freq_list) == insurance.shape[0]\n",
    "\n",
    "# Visualize\n",
    "plt.close()\n",
    "fig = plt.figure(figsize=(10, 7.5))\n",
    "sex_dist = fig.add_subplot()\n",
    "\n",
    "sex_dist.bar(np.arange(0, 6), child_freq_list, alpha = .5, edgecolor='black')\n",
    "sex_dist.set_xlabel('Number of children')\n",
    "sex_dist.set_ylabel('Frequency')\n",
    "sex_dist.spines['right'].set_visible(False)\n",
    "sex_dist.spines['top'].set_visible(False)"
   ]
  },
  {
   "cell_type": "markdown",
   "metadata": {},
   "source": [
    "## ***Smoking Distribution***\n",
    "\n",
    "*Here we visualize the amount of smokers vs. nonsmokers, noting that there are far more nonsmokers in these data*"
   ]
  },
  {
   "cell_type": "code",
   "execution_count": 81,
   "metadata": {},
   "outputs": [
    {
     "data": {
      "image/png": "[encoded data removed]",
      "text/plain": [
       "<Figure size 720x540 with 1 Axes>"
      ]
     },
     "metadata": {
      "needs_background": "light"
     },
     "output_type": "display_data"
    }
   ],
   "source": [
    "# Get the frequencies of smoking and nonsmoking observations\n",
    "smoke_count = get_freq('smoker', 'yes')\n",
    "no_smoke_count = get_freq('smoker', 'no')\n",
    "\n",
    "# assert that the sum of these two variables equals the total number of observations\n",
    "assert (smoke_count + no_smoke_count) == insurance.shape[0]\n",
    "\n",
    "# Visualize\n",
    "plt.close()\n",
    "fig = plt.figure(figsize=(10, 7.5))\n",
    "sex_dist = fig.add_subplot()\n",
    "\n",
    "sex_dist.bar(['Smoker', 'Nonsmoker'], [smoke_count, no_smoke_count], color = 'red', alpha = .5, edgecolor='black')\n",
    "sex_dist.set_xlabel('Smoking Status')\n",
    "sex_dist.set_ylabel('Frequency')\n",
    "sex_dist.spines['right'].set_visible(False)\n",
    "sex_dist.spines['top'].set_visible(False)"
   ]
  },
  {
   "cell_type": "markdown",
   "metadata": {},
   "source": [
    "## ***Region Distribution***\n",
    "\n",
    "*Here we visualize the frequency of the 'region' column in the dataframe:*"
   ]
  },
  {
   "cell_type": "code",
   "execution_count": 88,
   "metadata": {},
   "outputs": [
    {
     "data": {
      "image/png": "[encoded data removed]",
      "text/plain": [
       "<Figure size 720x540 with 1 Axes>"
      ]
     },
     "metadata": {
      "needs_background": "light"
     },
     "output_type": "display_data"
    }
   ],
   "source": [
    "# instantiate a list to be used in the for loop\n",
    "region_freq_list = []\n",
    "\n",
    "# make a for loop to use the get_freq function defined earlier to get the frequency of each unique observation in the 'region' column\n",
    "unique_regions = insurance['region'].unique()\n",
    "for i in unique_regions:\n",
    "    count = get_freq('region', i)\n",
    "    region_freq_list.append(count)\n",
    "\n",
    "# Assert that the sum of all region counts previously obtained is equal to the amount of rows in the dataframe\n",
    "assert sum(region_freq_list) == insurance.shape[0]\n",
    "\n",
    "# Visualize\n",
    "plt.close()\n",
    "fig = plt.figure(figsize=(10, 7.5))\n",
    "sex_dist = fig.add_subplot()\n",
    "\n",
    "sex_dist.bar(unique_regions, region_freq_list, alpha = .5, edgecolor='black')\n",
    "sex_dist.set_xlabel('Region')\n",
    "sex_dist.set_ylabel('Frequency')\n",
    "sex_dist.spines['right'].set_visible(False)\n",
    "sex_dist.spines['top'].set_visible(False)"
   ]
  },
  {
   "cell_type": "markdown",
   "metadata": {},
   "source": [
    "## ***Charges Distribution***\n",
    "\n",
    "*Finally, we visualize the distribution of the insurance charges:*"
   ]
  },
  {
   "cell_type": "code",
   "execution_count": 91,
   "metadata": {},
   "outputs": [
    {
     "data": {
      "image/png": "[encoded data removed]",
      "text/plain": [
       "<Figure size 1080x720 with 1 Axes>"
      ]
     },
     "metadata": {
      "needs_background": "light"
     },
     "output_type": "display_data"
    }
   ],
   "source": [
    "# Visualize\n",
    "plt.close()\n",
    "fig = plt.figure(figsize=(15, 10))\n",
    "age_dist = fig.add_subplot()\n",
    "\n",
    "age_dist.hist(insurance['charges'], color=\"red\", alpha=.5, edgecolor='black')\n",
    "age_dist.set_xlabel('Charges')\n",
    "age_dist.set_ylabel('Count')\n",
    "age_dist.spines['right'].set_visible(False)\n",
    "age_dist.spines['top'].set_visible(False)"
   ]
  }
 ],
 "metadata": {
  "kernelspec": {
   "display_name": "Python 3",
   "language": "python",
   "name": "python3"
  },
  "language_info": {
   "codemirror_mode": {
    "name": "ipython",
    "version": 3
   },
   "file_extension": ".py",
   "mimetype": "text/x-python",
   "name": "python",
   "nbconvert_exporter": "python",
   "pygments_lexer": "ipython3",
   "version": "3.7.4"
  }
 },
 "nbformat": 4,
 "nbformat_minor": 4
}
